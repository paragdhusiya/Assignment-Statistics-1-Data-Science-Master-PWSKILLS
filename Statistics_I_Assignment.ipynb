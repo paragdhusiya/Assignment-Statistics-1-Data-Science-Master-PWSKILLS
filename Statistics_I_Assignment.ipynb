{
 "cells": [
  {
   "cell_type": "markdown",
   "metadata": {},
   "source": [
    "Q1. What is Statistics?"
   ]
  },
  {
   "cell_type": "code",
   "execution_count": 2,
   "metadata": {},
   "outputs": [
    {
     "data": {
      "text/plain": [
       "'\\nStatistics is the mathematical discipline that involves collecting, analyzing, and interpreting data to make informed decisions and draw conclusions about populations based on samples.\\n'"
      ]
     },
     "execution_count": 2,
     "metadata": {},
     "output_type": "execute_result"
    }
   ],
   "source": [
    "\"\"\"\n",
    "Statistics is the mathematical discipline that involves collecting, \n",
    "analyzing, and interpreting data to make informed decisions and draw \n",
    "conclusions about populations based on samples.\n",
    "\"\"\""
   ]
  },
  {
   "cell_type": "markdown",
   "metadata": {},
   "source": [
    "Q2. Define the different types of statistics and give an example of when each type might be used."
   ]
  },
  {
   "cell_type": "code",
   "execution_count": 4,
   "metadata": {},
   "outputs": [
    {
     "name": "stdout",
     "output_type": "stream",
     "text": [
      "Descriptive Statistics:\n",
      "Mean Income: 49854.491675090685\n",
      "Median Income: 49667.343124319195\n",
      "Standard Deviation of Income: 9631.030112127708\n",
      "\n",
      "Inferential Statistics:\n",
      "T-Statistic: 2.877033028239853\n",
      "P-Value: 0.004926814238307005\n",
      "Reject the null hypothesis - There is a significant difference between groups.\n"
     ]
    }
   ],
   "source": [
    "# Import necessary libraries\n",
    "import numpy as np\n",
    "from scipy import stats\n",
    "\n",
    "# Descriptive Statistics Example\n",
    "# Generating a sample dataset (income of individuals)\n",
    "income_data = np.random.normal(50000, 10000, 1000)  # Mean: 50000, Standard Deviation: 10000\n",
    "\n",
    "# Calculating descriptive statistics\n",
    "mean_income = np.mean(income_data)\n",
    "median_income = np.median(income_data)\n",
    "std_dev_income = np.std(income_data)\n",
    "\n",
    "# Printing descriptive statistics\n",
    "print(\"Descriptive Statistics:\")\n",
    "print(f\"Mean Income: {mean_income}\")\n",
    "print(f\"Median Income: {median_income}\")\n",
    "print(f\"Standard Deviation of Income: {std_dev_income}\\n\")\n",
    "\n",
    "# Inferential Statistics Example\n",
    "# Generating data for a hypothetical drug trial (blood pressure reduction)\n",
    "# Assuming two groups: control group and treatment group\n",
    "control_group = np.random.normal(120, 10, 50)  # Control group with mean 120\n",
    "treatment_group = np.random.normal(115, 10, 50)  # Treatment group with mean 115\n",
    "\n",
    "# Performing an independent t-test to compare means of the two groups\n",
    "t_statistic, p_value = stats.ttest_ind(control_group, treatment_group)\n",
    "\n",
    "# Checking the results of the t-test\n",
    "print(\"Inferential Statistics:\")\n",
    "print(f\"T-Statistic: {t_statistic}\")\n",
    "print(f\"P-Value: {p_value}\")\n",
    "\n",
    "# Making a decision based on the p-value (e.g., using a significance level of 0.05)\n",
    "if p_value < 0.05:\n",
    "    print(\"Reject the null hypothesis - There is a significant difference between groups.\")\n",
    "else:\n",
    "    print(\"Fail to reject the null hypothesis - There is no significant difference between groups.\")\n"
   ]
  },
  {
   "cell_type": "markdown",
   "metadata": {},
   "source": [
    "Q3. What are the different types of data and how do they differ from each other? Provide an example of\n",
    "each type of data."
   ]
  },
  {
   "cell_type": "code",
   "execution_count": 7,
   "metadata": {},
   "outputs": [
    {
     "name": "stdout",
     "output_type": "stream",
     "text": [
      "DataFrame with Examples of Different Data Types:\n",
      "  Nominal      Ordinal  Interval   Ratio\n",
      "0     Red  High School        25     160\n",
      "1    Blue   Bachelor's        30      65\n",
      "2   Green     Master's        35  100000\n",
      "3    Male        Ph.D.        40      30\n",
      "4  Female         None        45       0\n",
      "\n",
      "Data Types:\n",
      "Nominal     object\n",
      "Ordinal     object\n",
      "Interval     int64\n",
      "Ratio        int64\n",
      "dtype: object\n"
     ]
    }
   ],
   "source": [
    "# Import necessary libraries\n",
    "import pandas as pd\n",
    "\n",
    "# Create a DataFrame with examples of different types of data\n",
    "data = {\n",
    "    'Nominal': ['Red', 'Blue', 'Green', 'Male', 'Female'],\n",
    "    'Ordinal': ['High School', 'Bachelor\\'s', 'Master\\'s', 'Ph.D.', None],  # Adding a placeholder for the missing ordinal value\n",
    "    'Interval': [25, 30, 35, 40, 45],\n",
    "    'Ratio': [160, 65, 100000, 30, 0]\n",
    "}\n",
    "\n",
    "df = pd.DataFrame(data)\n",
    "\n",
    "# Display the DataFrame\n",
    "print(\"DataFrame with Examples of Different Data Types:\")\n",
    "print(df)\n",
    "\n",
    "# Further explanation in comments\n",
    "\"\"\"\n",
    "- 'Nominal' data: Categories without a meaningful order.\n",
    "- 'Ordinal' data: Categories with a meaningful order.\n",
    "- 'Interval' data: Ordered categories with uniform intervals but no true zero point.\n",
    "- 'Ratio' data: Ordered categories with uniform intervals and a true zero point.\n",
    "\"\"\"\n",
    "\n",
    "# Checking the data types of each column\n",
    "print(\"\\nData Types:\")\n",
    "print(df.dtypes)\n"
   ]
  },
  {
   "cell_type": "markdown",
   "metadata": {},
   "source": [
    "Q4. Categorise the following datasets with respect to quantitative and qualitative data types:\n",
    "(i) Grading in exam: A+, A, B+, B, C+, C, D, E\n",
    "(ii) Colour of mangoes: yellow, green, orange, red\n",
    "(iii) Height data of a class: [178.9, 179, 179.5, 176, 177.2, 178.3, 175.8,...]\n",
    "(iv) Number of mangoes exported by a farm: [500, 600, 478, 672, ...]"
   ]
  },
  {
   "cell_type": "code",
   "execution_count": 8,
   "metadata": {},
   "outputs": [
    {
     "name": "stdout",
     "output_type": "stream",
     "text": [
      "Grading Data (Qualitative):\n",
      "  Grading\n",
      "0      A+\n",
      "1       A\n",
      "2      B+\n",
      "3       B\n",
      "4      C+\n",
      "5       C\n",
      "6       D\n",
      "7       E\n",
      "\n",
      "Color of Mangoes Data (Qualitative):\n",
      "  Color of Mangoes\n",
      "0           yellow\n",
      "1            green\n",
      "2           orange\n",
      "3              red\n",
      "\n",
      "Height Data (Quantitative):\n",
      "   Height\n",
      "0   178.9\n",
      "1   179.0\n",
      "2   179.5\n",
      "3   176.0\n",
      "4   177.2\n",
      "5   178.3\n",
      "6   175.8\n",
      "\n",
      "Number of Mangoes Data (Quantitative):\n",
      "   Number of Mangoes\n",
      "0                500\n",
      "1                600\n",
      "2                478\n",
      "3                672\n",
      "\n",
      "Data Types:\n",
      "Grading Data: Grading    object\n",
      "dtype: object\n",
      "Color of Mangoes Data: Color of Mangoes    object\n",
      "dtype: object\n",
      "Height Data: Height    float64\n",
      "dtype: object\n",
      "Number of Mangoes Data: Number of Mangoes    int64\n",
      "dtype: object\n"
     ]
    }
   ],
   "source": [
    "# Import necessary libraries\n",
    "import pandas as pd\n",
    "\n",
    "# Create sample datasets\n",
    "grading_data = ['A+', 'A', 'B+', 'B', 'C+', 'C', 'D', 'E']\n",
    "color_of_mangoes_data = ['yellow', 'green', 'orange', 'red']\n",
    "height_data = [178.9, 179, 179.5, 176, 177.2, 178.3, 175.8]\n",
    "number_of_mangoes_data = [500, 600, 478, 672]\n",
    "\n",
    "# Create DataFrames for easy display\n",
    "grading_df = pd.DataFrame({'Grading': grading_data})\n",
    "color_of_mangoes_df = pd.DataFrame({'Color of Mangoes': color_of_mangoes_data})\n",
    "height_df = pd.DataFrame({'Height': height_data})\n",
    "number_of_mangoes_df = pd.DataFrame({'Number of Mangoes': number_of_mangoes_data})\n",
    "\n",
    "# Display the DataFrames and categorize the data types\n",
    "print(\"Grading Data (Qualitative):\")\n",
    "print(grading_df)\n",
    "print(\"\\nColor of Mangoes Data (Qualitative):\")\n",
    "print(color_of_mangoes_df)\n",
    "print(\"\\nHeight Data (Quantitative):\")\n",
    "print(height_df)\n",
    "print(\"\\nNumber of Mangoes Data (Quantitative):\")\n",
    "print(number_of_mangoes_df)\n",
    "\n",
    "# Further explanation in comments\n",
    "\"\"\"\n",
    "- Grading data and Color of Mangoes data are qualitative.\n",
    "- Height data and Number of Mangoes data are quantitative.\n",
    "\"\"\"\n",
    "\n",
    "# Checking the data types of each DataFrame\n",
    "print(\"\\nData Types:\")\n",
    "print(\"Grading Data:\", grading_df.dtypes)\n",
    "print(\"Color of Mangoes Data:\", color_of_mangoes_df.dtypes)\n",
    "print(\"Height Data:\", height_df.dtypes)\n",
    "print(\"Number of Mangoes Data:\", number_of_mangoes_df.dtypes)\n"
   ]
  },
  {
   "cell_type": "markdown",
   "metadata": {},
   "source": [
    "Q5. Explain the concept of levels of measurement and give an example of a variable for each level."
   ]
  },
  {
   "cell_type": "code",
   "execution_count": 9,
   "metadata": {},
   "outputs": [
    {
     "name": "stdout",
     "output_type": "stream",
     "text": [
      "Nominal Data (Nominal Level):\n",
      "  Nominal Data\n",
      "0          Red\n",
      "1         Blue\n",
      "2        Green\n",
      "3         Male\n",
      "4       Female\n",
      "\n",
      "Ordinal Data (Ordinal Level):\n",
      "  Ordinal Data\n",
      "0  High School\n",
      "1   Bachelor's\n",
      "2     Master's\n",
      "3        Ph.D.\n",
      "\n",
      "Interval Data (Interval Level):\n",
      "   Interval Data\n",
      "0             25\n",
      "1             30\n",
      "2             35\n",
      "3             40\n",
      "4             45\n",
      "\n",
      "Ratio Data (Ratio Level):\n",
      "   Ratio Data\n",
      "0         160\n",
      "1          65\n",
      "2      100000\n",
      "3          30\n",
      "4           0\n",
      "\n",
      "Data Types:\n",
      "Nominal Data: Nominal Data    object\n",
      "dtype: object\n",
      "Ordinal Data: Ordinal Data    object\n",
      "dtype: object\n",
      "Interval Data: Interval Data    int64\n",
      "dtype: object\n",
      "Ratio Data: Ratio Data    int64\n",
      "dtype: object\n"
     ]
    }
   ],
   "source": [
    "# Import necessary libraries\n",
    "import pandas as pd\n",
    "\n",
    "# Create sample datasets for each level of measurement\n",
    "nominal_data = ['Red', 'Blue', 'Green', 'Male', 'Female']\n",
    "ordinal_data = ['High School', 'Bachelor\\'s', 'Master\\'s', 'Ph.D.']\n",
    "interval_data = [25, 30, 35, 40, 45]\n",
    "ratio_data = [160, 65, 100000, 30, 0]  # Using 0 to represent absence in the case of 'Ratio' data\n",
    "\n",
    "# Create DataFrames for easy display\n",
    "nominal_df = pd.DataFrame({'Nominal Data': nominal_data})\n",
    "ordinal_df = pd.DataFrame({'Ordinal Data': ordinal_data})\n",
    "interval_df = pd.DataFrame({'Interval Data': interval_data})\n",
    "ratio_df = pd.DataFrame({'Ratio Data': ratio_data})\n",
    "\n",
    "# Display the DataFrames and explain the levels of measurement\n",
    "print(\"Nominal Data (Nominal Level):\")\n",
    "print(nominal_df)\n",
    "print(\"\\nOrdinal Data (Ordinal Level):\")\n",
    "print(ordinal_df)\n",
    "print(\"\\nInterval Data (Interval Level):\")\n",
    "print(interval_df)\n",
    "print(\"\\nRatio Data (Ratio Level):\")\n",
    "print(ratio_df)\n",
    "\n",
    "# Further explanation in comments\n",
    "\"\"\"\n",
    "- Nominal data is at the nominal level.\n",
    "- Ordinal data is at the ordinal level.\n",
    "- Interval data is at the interval level.\n",
    "- Ratio data is at the ratio level.\n",
    "\"\"\"\n",
    "\n",
    "# Checking the data types of each DataFrame\n",
    "print(\"\\nData Types:\")\n",
    "print(\"Nominal Data:\", nominal_df.dtypes)\n",
    "print(\"Ordinal Data:\", ordinal_df.dtypes)\n",
    "print(\"Interval Data:\", interval_df.dtypes)\n",
    "print(\"Ratio Data:\", ratio_df.dtypes)\n"
   ]
  },
  {
   "cell_type": "markdown",
   "metadata": {},
   "source": [
    "Q6. Why is it important to understand the level of measurement when analyzing data? Provide an\n",
    "example to illustrate your answer."
   ]
  },
  {
   "cell_type": "code",
   "execution_count": 10,
   "metadata": {},
   "outputs": [
    {
     "name": "stdout",
     "output_type": "stream",
     "text": [
      "Sample Dataset:\n",
      "  Car Color  Number of Cars\n",
      "0       Red              10\n",
      "1      Blue              15\n",
      "2     Green               8\n",
      "3       Red              12\n",
      "4      Blue              20\n",
      "\n",
      "Nominal Level Analysis (Car Color):\n",
      "Mode (most common color): Blue\n",
      "\n",
      "Ratio Level Analysis (Number of Cars):\n",
      "Mean: 13.0\n",
      "Median: 12.0\n"
     ]
    }
   ],
   "source": [
    "# Import necessary libraries\n",
    "import pandas as pd\n",
    "\n",
    "# Create a sample dataset\n",
    "data = {\n",
    "    'Car Color': ['Red', 'Blue', 'Green', 'Red', 'Blue'],\n",
    "    'Number of Cars': [10, 15, 8, 12, 20]\n",
    "}\n",
    "\n",
    "df = pd.DataFrame(data)\n",
    "\n",
    "# Display the dataset\n",
    "print(\"Sample Dataset:\")\n",
    "print(df)\n",
    "\n",
    "# Analysis based on the level of measurement\n",
    "\n",
    "# Nominal Level (Car Color)\n",
    "nominal_mode = df['Car Color'].mode().iloc[0]\n",
    "print(\"\\nNominal Level Analysis (Car Color):\")\n",
    "print(f\"Mode (most common color): {nominal_mode}\")\n",
    "\n",
    "# Ratio Level (Number of Cars)\n",
    "ratio_mean = df['Number of Cars'].mean()\n",
    "ratio_median = df['Number of Cars'].median()\n",
    "print(\"\\nRatio Level Analysis (Number of Cars):\")\n",
    "print(f\"Mean: {ratio_mean}\")\n",
    "print(f\"Median: {ratio_median}\")\n"
   ]
  },
  {
   "cell_type": "markdown",
   "metadata": {},
   "source": [
    "Q7. How nominal data type is different from ordinal data type."
   ]
  },
  {
   "cell_type": "code",
   "execution_count": 11,
   "metadata": {},
   "outputs": [
    {
     "name": "stdout",
     "output_type": "stream",
     "text": [
      "Nominal Data:\n",
      "  Nominal Data\n",
      "0          Red\n",
      "1         Blue\n",
      "2        Green\n",
      "3         Male\n",
      "4       Female\n",
      "\n",
      "Ordinal Data:\n",
      "  Ordinal Data\n",
      "0  High School\n",
      "1   Bachelor's\n",
      "2     Master's\n",
      "3        Ph.D.\n",
      "\n",
      "Data Types:\n",
      "Nominal Data: Nominal Data    object\n",
      "dtype: object\n",
      "Ordinal Data: Ordinal Data    object\n",
      "dtype: object\n"
     ]
    }
   ],
   "source": [
    "# Import necessary libraries\n",
    "import pandas as pd\n",
    "\n",
    "# Create sample datasets for nominal and ordinal data\n",
    "nominal_data = ['Red', 'Blue', 'Green', 'Male', 'Female']\n",
    "ordinal_data = ['High School', 'Bachelor\\'s', 'Master\\'s', 'Ph.D.']\n",
    "\n",
    "# Create DataFrames for easy display\n",
    "nominal_df = pd.DataFrame({'Nominal Data': nominal_data})\n",
    "ordinal_df = pd.DataFrame({'Ordinal Data': ordinal_data})\n",
    "\n",
    "# Display the DataFrames and provide comments on the differences\n",
    "print(\"Nominal Data:\")\n",
    "print(nominal_df)\n",
    "\n",
    "print(\"\\nOrdinal Data:\")\n",
    "print(ordinal_df)\n",
    "\n",
    "# Further explanation in comments\n",
    "\"\"\"\n",
    "- Nominal data represents distinct categories without inherent order.\n",
    "- Ordinal data represents categories with a meaningful order, but the intervals between them are not necessarily uniform.\n",
    "\"\"\"\n",
    "\n",
    "# Checking the data types of each DataFrame\n",
    "print(\"\\nData Types:\")\n",
    "print(\"Nominal Data:\", nominal_df.dtypes)\n",
    "print(\"Ordinal Data:\", ordinal_df.dtypes)\n"
   ]
  },
  {
   "cell_type": "markdown",
   "metadata": {},
   "source": [
    "Q8. Which type of plot can be used to display data in terms of range?"
   ]
  },
  {
   "cell_type": "code",
   "execution_count": 12,
   "metadata": {},
   "outputs": [
    {
     "data": {
      "image/png": "[encoded data removed]",
      "text/plain": [
       "<Figure size 640x480 with 1 Axes>"
      ]
     },
     "metadata": {},
     "output_type": "display_data"
    }
   ],
   "source": [
    "import matplotlib.pyplot as plt\n",
    "import numpy as np\n",
    "\n",
    "# Generate example data\n",
    "data = np.random.normal(0, 1, 100)  # Random data with mean 0 and standard deviation 1\n",
    "\n",
    "# Create a box plot\n",
    "plt.boxplot(data)\n",
    "\n",
    "# Add labels and title\n",
    "plt.xlabel('Variable')\n",
    "plt.ylabel('Values')\n",
    "plt.title('Box Plot of Data')\n",
    "\n",
    "# Show the plot\n",
    "plt.show()\n"
   ]
  },
  {
   "cell_type": "markdown",
   "metadata": {},
   "source": [
    "Q9. Describe the difference between descriptive and inferential statistics. Give an example of each\n",
    "type of statistics and explain how they are used."
   ]
  },
  {
   "cell_type": "code",
   "execution_count": 13,
   "metadata": {},
   "outputs": [
    {
     "name": "stdout",
     "output_type": "stream",
     "text": [
      "Descriptive Statistics:\n",
      "Mean Exam Score: 69.65514724152501\n",
      "Median Exam Score: 71.4196340683302\n",
      "Standard Deviation of Exam Scores: 10.99750744920776\n",
      "\n",
      "Inferential Statistics:\n",
      "T-Statistic: -4.835696972635718\n",
      "P-Value: 4.868269814789615e-06\n",
      "Reject the null hypothesis - There is a significant difference in exam scores.\n"
     ]
    }
   ],
   "source": [
    "# Import necessary libraries\n",
    "import numpy as np\n",
    "from scipy import stats\n",
    "\n",
    "# Example data for exam scores\n",
    "exam_scores = np.random.normal(70, 10, 100)  # Random data with mean 70 and standard deviation 10\n",
    "\n",
    "# Descriptive Statistics Example\n",
    "# Calculating mean, median, and standard deviation\n",
    "mean_score = np.mean(exam_scores)\n",
    "median_score = np.median(exam_scores)\n",
    "std_dev_score = np.std(exam_scores)\n",
    "\n",
    "# Displaying descriptive statistics\n",
    "print(\"Descriptive Statistics:\")\n",
    "print(f\"Mean Exam Score: {mean_score}\")\n",
    "print(f\"Median Exam Score: {median_score}\")\n",
    "print(f\"Standard Deviation of Exam Scores: {std_dev_score}\\n\")\n",
    "\n",
    "# Inferential Statistics Example\n",
    "# Generating a hypothesis test using a t-test\n",
    "population_mean = 75  # Hypothetical population mean\n",
    "t_statistic, p_value = stats.ttest_1samp(exam_scores, population_mean)\n",
    "\n",
    "# Displaying inferential statistics\n",
    "print(\"Inferential Statistics:\")\n",
    "print(f\"T-Statistic: {t_statistic}\")\n",
    "print(f\"P-Value: {p_value}\")\n",
    "\n",
    "# Making a decision based on the p-value (e.g., using a significance level of 0.05)\n",
    "if p_value < 0.05:\n",
    "    print(\"Reject the null hypothesis - There is a significant difference in exam scores.\")\n",
    "else:\n",
    "    print(\"Fail to reject the null hypothesis - No significant difference in exam scores.\")\n"
   ]
  },
  {
   "cell_type": "markdown",
   "metadata": {},
   "source": [
    "Q10. What are some common measures of central tendency and variability used in statistics? Explain\n",
    "how each measure can be used to describe a dataset."
   ]
  },
  {
   "cell_type": "code",
   "execution_count": null,
   "metadata": {},
   "outputs": [],
   "source": [
    "# Import necessary libraries\n",
    "import numpy as np\n",
    "from scipy import stats\n",
    "\n",
    "# Create a sample dataset\n",
    "data = np.random.normal(50, 10, 100)  # Random data with mean 50 and standard deviation 10\n",
    "\n",
    "# Measures of Central Tendency\n",
    "mean_value = np.mean(data)\n",
    "median_value = np.median(data)\n",
    "mode_result = stats.mode(data)\n",
    "mode_value = mode_result.mode[0]  # Extracting the first mode from the result\n",
    "\n",
    "# Measures of Variability\n",
    "range_value = np.ptp(data)\n",
    "variance_value = np.var(data)\n",
    "std_deviation_value = np.std(data)\n",
    "iqr_value = stats.iqr(data)\n",
    "cv_value = (std_deviation_value / mean_value) * 100\n",
    "\n",
    "# Displaying the calculated values\n",
    "print(\"Measures of Central Tendency:\")\n",
    "print(f\"Mean: {mean_value}\")\n",
    "print(f\"Median: {median_value}\")\n",
    "print(f\"Mode: {mode_value}\\n\")\n",
    "\n",
    "print(\"Measures of Variability:\")\n",
    "print(f\"Range: {range_value}\")\n",
    "print(f\"Variance: {variance_value}\")\n",
    "print(f\"Standard Deviation: {std_deviation_value}\")\n",
    "print(f\"IQR (Interquartile Range): {iqr_value}\")\n",
    "print(f\"Coefficient of Variation: {cv_value}\")\n"
   ]
  }
 ],
 "metadata": {
  "kernelspec": {
   "display_name": "Python 3",
   "language": "python",
   "name": "python3"
  },
  "language_info": {
   "codemirror_mode": {
    "name": "ipython",
    "version": 3
   },
   "file_extension": ".py",
   "mimetype": "text/x-python",
   "name": "python",
   "nbconvert_exporter": "python",
   "pygments_lexer": "ipython3",
   "version": "3.11.3"
  }
 },
 "nbformat": 4,
 "nbformat_minor": 2
}
